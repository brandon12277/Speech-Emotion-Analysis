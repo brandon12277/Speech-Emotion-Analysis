{
 "cells": [
  {
   "cell_type": "code",
   "execution_count": 591,
   "id": "c74672bf-80c4-4774-b666-ae5dbb1c3791",
   "metadata": {},
   "outputs": [],
   "source": [
    "import pandas as pd\n",
    "import matplotlib.pyplot as plt\n",
    "import tensorflow as tf\n",
    "import os\n",
    "import shutil"
   ]
  },
  {
   "cell_type": "markdown",
   "id": "9db61878-8f0c-405c-b114-9b1757247e32",
   "metadata": {},
   "source": [
    "# Extract audio files and sort into respective folder for classification"
   ]
  },
  {
   "cell_type": "code",
   "execution_count": 592,
   "id": "6cbc7039-1f26-4d6e-a79f-63dc1b6f6497",
   "metadata": {},
   "outputs": [],
   "source": [
    "sound_path = \"./SoundFiles\"\n",
    "\n",
    "\n",
    "for i in range(1,9): \n",
    "    emo = \"0\"+str(i)\n",
    "    save_path = os.path.join(\"./Emotions\",emo)\n",
    "    if not os.path.exists(save_path):\n",
    "         os.makedirs(save_path)\n",
    "\n",
    "\n",
    "\n",
    "\n",
    "for root,dirs,files in os.walk(sound_path):\n",
    "    for file in files:\n",
    "        emotion = file.split(\"-\")[2]\n",
    "        save_path = os.path.join(\"./Emotions\",emotion)\n",
    "        dir_path = os.path.join(root,file)\n",
    "        shutil.copy(dir_path,save_path)\n",
    "        \n",
    "        \n",
    "        \n",
    "\n",
    "       \n",
    "               "
   ]
  },
  {
   "cell_type": "markdown",
   "id": "481848f3-7978-43ac-af61-48a44e610d85",
   "metadata": {},
   "source": [
    "# Function to generate mel spectogram"
   ]
  },
  {
   "cell_type": "code",
   "execution_count": 593,
   "id": "5c7cb71e-6a7a-4cf0-bf4d-3e467ba68622",
   "metadata": {},
   "outputs": [],
   "source": [
    "import librosa\n",
    "\n",
    "specto_path = \"./Spectogram\"\n",
    "emotion_file_path = \"./Emotions\"\n",
    "\n",
    "\n",
    "def generate_and_save_spectrogram(audio_path,dest):\n",
    "    try:\n",
    "        y, sr = librosa.load(audio_path, sr=None)\n",
    "        mel_spectrogram = librosa.feature.melspectrogram(y=y, sr=sr, n_fft=2048, hop_length=512, n_mels=128)\n",
    "\n",
    "   \n",
    "        mel_spectrogram_db = librosa.power_to_db(mel_spectrogram, ref=np.max)\n",
    "\n",
    "  \n",
    "        plt.figure(figsize=(4, 4))\n",
    "        librosa.display.specshow(mel_spectrogram_db, sr=sr, hop_length=512, x_axis=None, y_axis=None)\n",
    "        plt.axis('off')\n",
    "        plt.tight_layout(pad=0)\n",
    "\n",
    "   \n",
    "        plt.savefig(dest, format='png', bbox_inches='tight', pad_inches=0)\n",
    "        plt.close()\n",
    "    except Exception as e:\n",
    "        print(f\"An error occurred: {e}\")\n",
    "        return None\n",
    "\n",
    "\n",
    "\n",
    "    \n",
    "\n",
    "\n"
   ]
  },
  {
   "cell_type": "markdown",
   "id": "36a39967-bc01-4cb1-a8ed-b6e274b991a7",
   "metadata": {},
   "source": [
    "# Store Images in designated folder by classes"
   ]
  },
  {
   "cell_type": "code",
   "execution_count": 594,
   "id": "0b355d7a-c0ed-4437-a90d-ba6e73844f0b",
   "metadata": {},
   "outputs": [],
   "source": [
    "for root,dirs,files in os.walk(\"Emotions\"):\n",
    "    itr = 0\n",
    "    for file in files:\n",
    "        src_path = os.path.join(root,file)\n",
    "        dest_folder = os.path.join(\"./Spectogram\",file.split(\"-\")[2])\n",
    "\n",
    "        if not os.path.exists(dest_folder):\n",
    "            os.makedirs(dest_folder)\n",
    "        dest_path = os.path.join(dest_folder,str(itr)+'.png')\n",
    "        spectogram_img = generate_and_save_spectrogram(src_path,dest_path)\n",
    "        itr+=1"
   ]
  },
  {
   "cell_type": "markdown",
   "id": "ab073cd0-96b7-4b8d-8feb-d6701c2d8728",
   "metadata": {},
   "source": [
    "# Create Dataframe"
   ]
  },
  {
   "cell_type": "code",
   "execution_count": 595,
   "id": "36809c04-735b-4cd6-b1aa-8ce5b69a23f1",
   "metadata": {},
   "outputs": [
    {
     "data": {
      "text/html": [
       "<div>\n",
       "<style scoped>\n",
       "    .dataframe tbody tr th:only-of-type {\n",
       "        vertical-align: middle;\n",
       "    }\n",
       "\n",
       "    .dataframe tbody tr th {\n",
       "        vertical-align: top;\n",
       "    }\n",
       "\n",
       "    .dataframe thead th {\n",
       "        text-align: right;\n",
       "    }\n",
       "</style>\n",
       "<table border=\"1\" class=\"dataframe\">\n",
       "  <thead>\n",
       "    <tr style=\"text-align: right;\">\n",
       "      <th></th>\n",
       "      <th>Images</th>\n",
       "      <th>Emotion</th>\n",
       "    </tr>\n",
       "  </thead>\n",
       "  <tbody>\n",
       "    <tr>\n",
       "      <th>0</th>\n",
       "      <td>Spectogram\\01\\0.png</td>\n",
       "      <td>01</td>\n",
       "    </tr>\n",
       "    <tr>\n",
       "      <th>1</th>\n",
       "      <td>Spectogram\\01\\1.png</td>\n",
       "      <td>01</td>\n",
       "    </tr>\n",
       "    <tr>\n",
       "      <th>2</th>\n",
       "      <td>Spectogram\\01\\10.png</td>\n",
       "      <td>01</td>\n",
       "    </tr>\n",
       "    <tr>\n",
       "      <th>3</th>\n",
       "      <td>Spectogram\\01\\11.png</td>\n",
       "      <td>01</td>\n",
       "    </tr>\n",
       "    <tr>\n",
       "      <th>4</th>\n",
       "      <td>Spectogram\\01\\12.png</td>\n",
       "      <td>01</td>\n",
       "    </tr>\n",
       "    <tr>\n",
       "      <th>...</th>\n",
       "      <td>...</td>\n",
       "      <td>...</td>\n",
       "    </tr>\n",
       "    <tr>\n",
       "      <th>1435</th>\n",
       "      <td>Spectogram\\08\\95.png</td>\n",
       "      <td>08</td>\n",
       "    </tr>\n",
       "    <tr>\n",
       "      <th>1436</th>\n",
       "      <td>Spectogram\\08\\96.png</td>\n",
       "      <td>08</td>\n",
       "    </tr>\n",
       "    <tr>\n",
       "      <th>1437</th>\n",
       "      <td>Spectogram\\08\\97.png</td>\n",
       "      <td>08</td>\n",
       "    </tr>\n",
       "    <tr>\n",
       "      <th>1438</th>\n",
       "      <td>Spectogram\\08\\98.png</td>\n",
       "      <td>08</td>\n",
       "    </tr>\n",
       "    <tr>\n",
       "      <th>1439</th>\n",
       "      <td>Spectogram\\08\\99.png</td>\n",
       "      <td>08</td>\n",
       "    </tr>\n",
       "  </tbody>\n",
       "</table>\n",
       "<p>1440 rows × 2 columns</p>\n",
       "</div>"
      ],
      "text/plain": [
       "                    Images Emotion\n",
       "0      Spectogram\\01\\0.png      01\n",
       "1      Spectogram\\01\\1.png      01\n",
       "2     Spectogram\\01\\10.png      01\n",
       "3     Spectogram\\01\\11.png      01\n",
       "4     Spectogram\\01\\12.png      01\n",
       "...                    ...     ...\n",
       "1435  Spectogram\\08\\95.png      08\n",
       "1436  Spectogram\\08\\96.png      08\n",
       "1437  Spectogram\\08\\97.png      08\n",
       "1438  Spectogram\\08\\98.png      08\n",
       "1439  Spectogram\\08\\99.png      08\n",
       "\n",
       "[1440 rows x 2 columns]"
      ]
     },
     "execution_count": 595,
     "metadata": {},
     "output_type": "execute_result"
    }
   ],
   "source": [
    "labels = []\n",
    "path_files = []\n",
    "\n",
    "\n",
    "for root,dirs,files in os.walk(\"Spectogram\"):\n",
    "   \n",
    "   \n",
    "    for file in files:\n",
    "         label = root.split(\"\\\\\")[1]\n",
    "         labels.append(label)\n",
    "         path_files.append(os.path.join(root,file))\n",
    "             \n",
    "         \n",
    "\n",
    "\n",
    "\n",
    "paths = pd.DataFrame(path_files,columns=[\"Images\"])\n",
    "label_codes = pd.DataFrame(labels,columns=[\"Emotion\"])\n",
    "\n",
    "df = pd.concat([paths,label_codes],axis=1)\n",
    "df\n",
    "    "
   ]
  },
  {
   "cell_type": "code",
   "execution_count": 596,
   "id": "bc3851ee-9b34-479b-9605-43a6c8857a18",
   "metadata": {},
   "outputs": [],
   "source": [
    "final_path_train = \"./Specto/train\"\n",
    "final_path_test = \"./Specto/test\"\n",
    "\n",
    "if not os.path.exists(final_path_train):\n",
    "    os.makedirs(final_path_train)\n",
    "\n",
    "if not os.path.exists(final_path_test):\n",
    "    os.makedirs(final_path_test)\n",
    "\n",
    "X = df.iloc[:,0].values\n",
    "Y = df.iloc[:,-1].values\n",
    "print(X)\n",
    "print(Y)"
   ]
  },
  {
   "cell_type": "code",
   "execution_count": 597,
   "id": "fdca4825-6e21-4d68-8a17-de640a921eb4",
   "metadata": {},
   "outputs": [
    {
     "name": "stdout",
     "output_type": "stream",
     "text": [
      "['Spectogram\\\\07\\\\33.png' 'Spectogram\\\\06\\\\135.png'\n",
      " 'Spectogram\\\\07\\\\1.png' ... 'Spectogram\\\\07\\\\70.png'\n",
      " 'Spectogram\\\\04\\\\17.png' 'Spectogram\\\\05\\\\109.png']\n",
      "['07' '06' '07' ... '07' '04' '05']\n"
     ]
    }
   ],
   "source": [
    "from sklearn.model_selection import train_test_split\n",
    "X_train, X_test, y_train, y_test = train_test_split(X, Y, test_size = 0.15, random_state = 0)\n",
    "\n",
    "print(X_train)\n",
    "print(y_train)\n",
    "\n",
    "for index in range(len(X_train)):\n",
    "    emotion = y_train[index]\n",
    "    save_path = os.path.join(\"Specto\",\"train\",emotion)\n",
    "    if not os.path.exists(save_path):\n",
    "        os.makedirs(save_path)\n",
    "    save_path = os.path.join(save_path,str(index)+\".png\")   \n",
    "    src_path = X_train[index]\n",
    "    shutil.copy(src_path,save_path)\n",
    "\n",
    "for index in range(len(X_test)):\n",
    "    emotion = y_test[index]\n",
    "    save_path = os.path.join(\"Specto\",\"test\",emotion)\n",
    "    if not os.path.exists(save_path):\n",
    "        os.makedirs(save_path)\n",
    "    save_path = os.path.join(save_path,str(index)+\".png\")   \n",
    "    src_path = X_test[index]\n",
    "    shutil.copy(src_path,save_path)\n",
    "    "
   ]
  },
  {
   "cell_type": "code",
   "execution_count": null,
   "id": "2eed1c54-6a0e-463c-b7e3-b0c868705638",
   "metadata": {},
   "outputs": [],
   "source": []
  },
  {
   "cell_type": "code",
   "execution_count": 598,
   "id": "7cdfce6f-8c92-4c7f-91d2-d753651c17f5",
   "metadata": {},
   "outputs": [
    {
     "name": "stdout",
     "output_type": "stream",
     "text": [
      "Found 1225 images belonging to 8 classes.\n"
     ]
    }
   ],
   "source": [
    "train_datagen = tf.keras.preprocessing.image.ImageDataGenerator(rescale = 1./255)\n",
    "training_set = train_datagen.flow_from_directory('Specto/train',\n",
    "                                                 target_size = (128, 128),\n",
    "                                                 batch_size = 32,\n",
    "                                                 class_mode = 'categorical')"
   ]
  },
  {
   "cell_type": "code",
   "execution_count": 599,
   "id": "0d67d690-c25c-40fd-922a-9a3eba6d16c5",
   "metadata": {},
   "outputs": [
    {
     "name": "stdout",
     "output_type": "stream",
     "text": [
      "Found 281 images belonging to 8 classes.\n"
     ]
    }
   ],
   "source": [
    "test_datagen = tf.keras.preprocessing.image.ImageDataGenerator(rescale = 1./255)\n",
    "test_set = test_datagen.flow_from_directory('Specto/test',\n",
    "                                            target_size = (128, 128),\n",
    "                                            batch_size = 32,\n",
    "                                            class_mode = 'categorical')"
   ]
  },
  {
   "cell_type": "code",
   "execution_count": 600,
   "id": "41abf1d3-0cc9-4d58-b6b2-2e36ac1852c8",
   "metadata": {},
   "outputs": [],
   "source": [
    "cnn = tf.keras.models.Sequential()\n",
    "\n"
   ]
  },
  {
   "cell_type": "code",
   "execution_count": 601,
   "id": "ae90be2d-73c0-4746-a7c5-55ac37d2f6b1",
   "metadata": {},
   "outputs": [
    {
     "name": "stderr",
     "output_type": "stream",
     "text": [
      "C:\\Users\\Brandon Williams\\AppData\\Local\\Programs\\Python\\Python312\\Lib\\site-packages\\keras\\src\\layers\\convolutional\\base_conv.py:107: UserWarning: Do not pass an `input_shape`/`input_dim` argument to a layer. When using Sequential models, prefer using an `Input(shape)` object as the first layer in the model instead.\n",
      "  super().__init__(activity_regularizer=activity_regularizer, **kwargs)\n"
     ]
    }
   ],
   "source": [
    "cnn.add(tf.keras.layers.Conv2D(filters=32, kernel_size=3, activation='relu', input_shape=[128, 128, 3]))\n",
    "cnn.add(tf.keras.layers.MaxPool2D(pool_size=2, strides=2))"
   ]
  },
  {
   "cell_type": "code",
   "execution_count": 602,
   "id": "3f035c32-a934-407d-bfb3-48e3f6c731fa",
   "metadata": {},
   "outputs": [],
   "source": [
    "cnn.add(tf.keras.layers.Conv2D(filters=32, kernel_size=3, activation='relu'))\n",
    "cnn.add(tf.keras.layers.MaxPool2D(pool_size=2, strides=2))"
   ]
  },
  {
   "cell_type": "code",
   "execution_count": 603,
   "id": "19975d61-67e0-4f45-9136-86f7107a551d",
   "metadata": {},
   "outputs": [],
   "source": [
    "cnn.add(tf.keras.layers.Flatten())"
   ]
  },
  {
   "cell_type": "code",
   "execution_count": 604,
   "id": "3c5daa4c-8e85-41df-b364-3cfa081a3aa8",
   "metadata": {},
   "outputs": [],
   "source": [
    "cnn.add(tf.keras.layers.Dense(units=64, activation='relu'))\n",
    "cnn.add(tf.keras.layers.Dense(units=64, activation='relu'))\n",
    "cnn.add(tf.keras.layers.Dense(units=256, activation='relu'))\n",
    "cnn.add(tf.keras.layers.Dense(units=128, activation='relu'))"
   ]
  },
  {
   "cell_type": "code",
   "execution_count": 605,
   "id": "e86dde47-6788-40d9-b48b-63855470057c",
   "metadata": {},
   "outputs": [],
   "source": [
    "cnn.add(tf.keras.layers.Dense(units=8, activation='softmax'))"
   ]
  },
  {
   "cell_type": "code",
   "execution_count": 606,
   "id": "6dc39c00-e077-489f-a5cd-d83860e50530",
   "metadata": {},
   "outputs": [],
   "source": [
    "cnn.compile(optimizer = 'adam', loss = 'categorical_crossentropy', metrics = ['accuracy'])\n"
   ]
  },
  {
   "cell_type": "code",
   "execution_count": 607,
   "id": "f06551e1-4bee-4d01-9dc4-44157ad5b2bf",
   "metadata": {},
   "outputs": [
    {
     "name": "stdout",
     "output_type": "stream",
     "text": [
      "Epoch 1/15\n"
     ]
    },
    {
     "name": "stderr",
     "output_type": "stream",
     "text": [
      "C:\\Users\\Brandon Williams\\AppData\\Local\\Programs\\Python\\Python312\\Lib\\site-packages\\keras\\src\\trainers\\data_adapters\\py_dataset_adapter.py:121: UserWarning: Your `PyDataset` class should call `super().__init__(**kwargs)` in its constructor. `**kwargs` can include `workers`, `use_multiprocessing`, `max_queue_size`. Do not pass these arguments to `fit()`, as they will be ignored.\n",
      "  self._warn_if_super_not_called()\n"
     ]
    },
    {
     "name": "stdout",
     "output_type": "stream",
     "text": [
      "\u001b[1m39/39\u001b[0m \u001b[32m━━━━━━━━━━━━━━━━━━━━\u001b[0m\u001b[37m\u001b[0m \u001b[1m17s\u001b[0m 357ms/step - accuracy: 0.1772 - loss: 1.9905 - val_accuracy: 0.2776 - val_loss: 1.8777\n",
      "Epoch 2/15\n",
      "\u001b[1m39/39\u001b[0m \u001b[32m━━━━━━━━━━━━━━━━━━━━\u001b[0m\u001b[37m\u001b[0m \u001b[1m14s\u001b[0m 329ms/step - accuracy: 0.3353 - loss: 1.7415 - val_accuracy: 0.3416 - val_loss: 1.6968\n",
      "Epoch 3/15\n",
      "\u001b[1m39/39\u001b[0m \u001b[32m━━━━━━━━━━━━━━━━━━━━\u001b[0m\u001b[37m\u001b[0m \u001b[1m14s\u001b[0m 324ms/step - accuracy: 0.4146 - loss: 1.5061 - val_accuracy: 0.3630 - val_loss: 1.5671\n",
      "Epoch 4/15\n",
      "\u001b[1m39/39\u001b[0m \u001b[32m━━━━━━━━━━━━━━━━━━━━\u001b[0m\u001b[37m\u001b[0m \u001b[1m14s\u001b[0m 320ms/step - accuracy: 0.5145 - loss: 1.2932 - val_accuracy: 0.4342 - val_loss: 1.4631\n",
      "Epoch 5/15\n",
      "\u001b[1m39/39\u001b[0m \u001b[32m━━━━━━━━━━━━━━━━━━━━\u001b[0m\u001b[37m\u001b[0m \u001b[1m15s\u001b[0m 332ms/step - accuracy: 0.5896 - loss: 1.0634 - val_accuracy: 0.5089 - val_loss: 1.4092\n",
      "Epoch 6/15\n",
      "\u001b[1m39/39\u001b[0m \u001b[32m━━━━━━━━━━━━━━━━━━━━\u001b[0m\u001b[37m\u001b[0m \u001b[1m14s\u001b[0m 322ms/step - accuracy: 0.6553 - loss: 0.9631 - val_accuracy: 0.5480 - val_loss: 1.3280\n",
      "Epoch 7/15\n",
      "\u001b[1m39/39\u001b[0m \u001b[32m━━━━━━━━━━━━━━━━━━━━\u001b[0m\u001b[37m\u001b[0m \u001b[1m14s\u001b[0m 322ms/step - accuracy: 0.7923 - loss: 0.6124 - val_accuracy: 0.5658 - val_loss: 1.4653\n",
      "Epoch 8/15\n",
      "\u001b[1m39/39\u001b[0m \u001b[32m━━━━━━━━━━━━━━━━━━━━\u001b[0m\u001b[37m\u001b[0m \u001b[1m14s\u001b[0m 319ms/step - accuracy: 0.8469 - loss: 0.4241 - val_accuracy: 0.6192 - val_loss: 1.3980\n",
      "Epoch 9/15\n",
      "\u001b[1m39/39\u001b[0m \u001b[32m━━━━━━━━━━━━━━━━━━━━\u001b[0m\u001b[37m\u001b[0m \u001b[1m15s\u001b[0m 334ms/step - accuracy: 0.9004 - loss: 0.3106 - val_accuracy: 0.6690 - val_loss: 1.3613\n",
      "Epoch 10/15\n",
      "\u001b[1m39/39\u001b[0m \u001b[32m━━━━━━━━━━━━━━━━━━━━\u001b[0m\u001b[37m\u001b[0m \u001b[1m14s\u001b[0m 326ms/step - accuracy: 0.9650 - loss: 0.1351 - val_accuracy: 0.6335 - val_loss: 1.3358\n",
      "Epoch 11/15\n",
      "\u001b[1m39/39\u001b[0m \u001b[32m━━━━━━━━━━━━━━━━━━━━\u001b[0m\u001b[37m\u001b[0m \u001b[1m14s\u001b[0m 318ms/step - accuracy: 0.9630 - loss: 0.1036 - val_accuracy: 0.6406 - val_loss: 1.7810\n",
      "Epoch 12/15\n",
      "\u001b[1m39/39\u001b[0m \u001b[32m━━━━━━━━━━━━━━━━━━━━\u001b[0m\u001b[37m\u001b[0m \u001b[1m14s\u001b[0m 320ms/step - accuracy: 0.9643 - loss: 0.1017 - val_accuracy: 0.7153 - val_loss: 1.3397\n",
      "Epoch 13/15\n",
      "\u001b[1m39/39\u001b[0m \u001b[32m━━━━━━━━━━━━━━━━━━━━\u001b[0m\u001b[37m\u001b[0m \u001b[1m14s\u001b[0m 313ms/step - accuracy: 0.9983 - loss: 0.0144 - val_accuracy: 0.7153 - val_loss: 1.4833\n",
      "Epoch 14/15\n",
      "\u001b[1m39/39\u001b[0m \u001b[32m━━━━━━━━━━━━━━━━━━━━\u001b[0m\u001b[37m\u001b[0m \u001b[1m14s\u001b[0m 318ms/step - accuracy: 0.9987 - loss: 0.0052 - val_accuracy: 0.6975 - val_loss: 1.6240\n",
      "Epoch 15/15\n",
      "\u001b[1m39/39\u001b[0m \u001b[32m━━━━━━━━━━━━━━━━━━━━\u001b[0m\u001b[37m\u001b[0m \u001b[1m14s\u001b[0m 332ms/step - accuracy: 1.0000 - loss: 0.0037 - val_accuracy: 0.7011 - val_loss: 1.7295\n"
     ]
    }
   ],
   "source": [
    "history = cnn.fit(x = training_set, validation_data = test_set, epochs = 15)"
   ]
  },
  {
   "cell_type": "code",
   "execution_count": 608,
   "id": "1ce46c08-97e2-4193-8849-66148eebc634",
   "metadata": {},
   "outputs": [
    {
     "name": "stdout",
     "output_type": "stream",
     "text": [
      "[0.2775800824165344, 0.3416370153427124, 0.3629893362522125, 0.4341636896133423, 0.5088967680931091, 0.5480427145957947, 0.5658363103866577, 0.6192170977592468, 0.6690391302108765, 0.6334519386291504, 0.6405693888664246, 0.7153024673461914, 0.7153024673461914, 0.6975088715553284, 0.7010676264762878]\n"
     ]
    },
    {
     "data": {
      "image/png": "[encoded data removed]",
      "text/plain": [
       "<Figure size 640x480 with 1 Axes>"
      ]
     },
     "metadata": {},
     "output_type": "display_data"
    },
    {
     "data": {
      "image/png": "[encoded data removed]",
      "text/plain": [
       "<Figure size 640x480 with 1 Axes>"
      ]
     },
     "metadata": {},
     "output_type": "display_data"
    }
   ],
   "source": [
    "history_dict = history.history\n",
    "\n",
    "print(history_dict['val_accuracy'])\n",
    "# Plot training & validation accuracy values\n",
    "plt.plot(history_dict['accuracy'])\n",
    "plt.plot(history_dict['val_accuracy'])\n",
    "plt.title('Model accuracy')\n",
    "plt.xlabel('Epoch')\n",
    "plt.ylabel('Accuracy')\n",
    "plt.legend(['Train', 'Validation'], loc='upper left')\n",
    "plt.show()\n",
    "\n",
    "# Plot training & validation loss values\n",
    "plt.plot(history_dict['loss'])\n",
    "plt.plot(history_dict['val_loss'])\n",
    "plt.title('Model loss')\n",
    "plt.xlabel('Epoch')\n",
    "plt.ylabel('Loss')\n",
    "plt.legend(['Train', 'Validation'], loc='upper left')\n",
    "plt.show()"
   ]
  },
  {
   "cell_type": "code",
   "execution_count": null,
   "id": "e5dcd5a7-b0f1-40a8-83c6-50d7757c8d19",
   "metadata": {},
   "outputs": [],
   "source": [
    "\n"
   ]
  },
  {
   "cell_type": "code",
   "execution_count": 611,
   "id": "551a3ed6-c555-4eb6-8a27-db0765ee1556",
   "metadata": {
    "scrolled": true
   },
   "outputs": [
    {
     "name": "stdout",
     "output_type": "stream",
     "text": [
      "\u001b[1m1/1\u001b[0m \u001b[32m━━━━━━━━━━━━━━━━━━━━\u001b[0m\u001b[37m\u001b[0m \u001b[1m0s\u001b[0m 28ms/step\n",
      "angry\n"
     ]
    }
   ],
   "source": [
    "from keras.preprocessing import image\n",
    "import numpy as np\n",
    "def image_processing(path):\n",
    "    test_image = image.load_img(path, target_size = (128, 128))\n",
    "    test_image = image.img_to_array(test_image)\n",
    "    test_image = np.expand_dims(test_image, axis = 0)\n",
    "    return test_image\n",
    "\n",
    "src = \"./Man Upset  Raging Screams Sound Effect (320 kbps).mp3\"\n",
    "dest = \"./angry.jpg\"\n",
    "generate_and_save_spectrogram(src,dest)\n",
    "\n",
    "emotions = ['neutral','calm','happy','sad', 'angry','fearful','disgust','surprised']\n",
    "\n",
    "res = cnn.predict(image_processing(dest))\n",
    "print(emotions[np.argmax(res)])"
   ]
  },
  {
   "cell_type": "markdown",
   "id": "628c5654-2639-42e7-b1c5-2812fab0f073",
   "metadata": {},
   "source": [
    "# Save the Model"
   ]
  },
  {
   "cell_type": "code",
   "execution_count": 614,
   "id": "e9dc2f97-c66c-4427-9bbb-87dfe7723cee",
   "metadata": {},
   "outputs": [
    {
     "name": "stderr",
     "output_type": "stream",
     "text": [
      "WARNING:absl:You are saving your model as an HDF5 file via `model.save()` or `keras.saving.save_model(model)`. This file format is considered legacy. We recommend using instead the native Keras format, e.g. `model.save('my_model.keras')` or `keras.saving.save_model(model, 'my_model.keras')`. \n"
     ]
    }
   ],
   "source": [
    "cnn.save(\"emotion_80.h5\")"
   ]
  },
  {
   "cell_type": "code",
   "execution_count": null,
   "id": "25419ddc-6ca5-4888-af9a-5d30775ed0ee",
   "metadata": {},
   "outputs": [],
   "source": []
  }
 ],
 "metadata": {
  "kernelspec": {
   "display_name": "Python 3 (ipykernel)",
   "language": "python",
   "name": "python3"
  },
  "language_info": {
   "codemirror_mode": {
    "name": "ipython",
    "version": 3
   },
   "file_extension": ".py",
   "mimetype": "text/x-python",
   "name": "python",
   "nbconvert_exporter": "python",
   "pygments_lexer": "ipython3",
   "version": "3.12.3"
  }
 },
 "nbformat": 4,
 "nbformat_minor": 5
}
